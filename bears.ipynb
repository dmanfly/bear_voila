{
  "nbformat": 4,
  "nbformat_minor": 0,
  "metadata": {
    "colab": {
      "name": "bears.ipynb",
      "provenance": [],
      "collapsed_sections": []
    },
    "kernelspec": {
      "name": "python3",
      "display_name": "Python 3"
    },
    "accelerator": "GPU",
    "widgets": {
      "application/vnd.jupyter.widget-state+json": {
        "c34696da48414b2990ddf32caa732dc9": {
          "model_module": "@jupyter-widgets/controls",
          "model_name": "VBoxModel",
          "state": {
            "_view_name": "VBoxView",
            "_dom_classes": [],
            "_model_name": "VBoxModel",
            "_view_module": "@jupyter-widgets/controls",
            "_model_module_version": "1.5.0",
            "_view_count": null,
            "_view_module_version": "1.5.0",
            "box_style": "",
            "layout": "IPY_MODEL_aa2f523bf962494e8391b09fd8c29e29",
            "_model_module": "@jupyter-widgets/controls",
            "children": [
              "IPY_MODEL_e69042492d99434c93b2264e5bc79440",
              "IPY_MODEL_d8601afef3ee4a9196de994da5f5639b",
              "IPY_MODEL_8687ac502fd24a34b54a605ec8ff337f",
              "IPY_MODEL_f3f9b62eb641458a96b0de0f97899a64",
              "IPY_MODEL_84cfeb5c064c450489d0460a08b8577b"
            ]
          }
        },
        "aa2f523bf962494e8391b09fd8c29e29": {
          "model_module": "@jupyter-widgets/base",
          "model_name": "LayoutModel",
          "state": {
            "_view_name": "LayoutView",
            "grid_template_rows": null,
            "right": null,
            "justify_content": null,
            "_view_module": "@jupyter-widgets/base",
            "overflow": null,
            "_model_module_version": "1.2.0",
            "_view_count": null,
            "flex_flow": null,
            "width": null,
            "min_width": null,
            "border": null,
            "align_items": null,
            "bottom": null,
            "_model_module": "@jupyter-widgets/base",
            "top": null,
            "grid_column": null,
            "overflow_y": null,
            "overflow_x": null,
            "grid_auto_flow": null,
            "grid_area": null,
            "grid_template_columns": null,
            "flex": null,
            "_model_name": "LayoutModel",
            "justify_items": null,
            "grid_row": null,
            "max_height": null,
            "align_content": null,
            "visibility": null,
            "align_self": null,
            "height": null,
            "min_height": null,
            "padding": null,
            "grid_auto_rows": null,
            "grid_gap": null,
            "max_width": null,
            "order": null,
            "_view_module_version": "1.2.0",
            "grid_template_areas": null,
            "object_position": null,
            "object_fit": null,
            "grid_auto_columns": null,
            "margin": null,
            "display": null,
            "left": null
          }
        },
        "e69042492d99434c93b2264e5bc79440": {
          "model_module": "@jupyter-widgets/controls",
          "model_name": "LabelModel",
          "state": {
            "_view_name": "LabelView",
            "style": "IPY_MODEL_922af8a1874a46aca20a1ad069c8ffd3",
            "_dom_classes": [],
            "description": "",
            "_model_name": "LabelModel",
            "placeholder": "​",
            "_view_module": "@jupyter-widgets/controls",
            "_model_module_version": "1.5.0",
            "value": "Select your bear!",
            "_view_count": null,
            "_view_module_version": "1.5.0",
            "description_tooltip": null,
            "_model_module": "@jupyter-widgets/controls",
            "layout": "IPY_MODEL_c5ec27b75ab9479995e3747a40762c95"
          }
        },
        "d8601afef3ee4a9196de994da5f5639b": {
          "model_module": "@jupyter-widgets/controls",
          "model_name": "FileUploadModel",
          "state": {
            "_view_name": "FileUploadView",
            "_counter": 1,
            "style": "IPY_MODEL_6f5b7398033546a1be4d69c9e62f991f",
            "_dom_classes": [],
            "description": "Upload",
            "multiple": false,
            "_model_name": "FileUploadModel",
            "data": [
              null
            ],
            "button_style": "",
            "_view_module": "@jupyter-widgets/controls",
            "_model_module_version": "1.5.0",
            "accept": "",
            "_view_count": null,
            "disabled": false,
            "_view_module_version": "1.5.0",
            "error": "",
            "description_tooltip": null,
            "metadata": [
              {
                "name": "white.jpg",
                "type": "image/jpeg",
                "size": 19947,
                "lastModified": 1613248892825
              }
            ],
            "_model_module": "@jupyter-widgets/controls",
            "layout": "IPY_MODEL_ddb13dc09e3041cca4c8b69489ddfff8",
            "icon": "upload"
          }
        },
        "8687ac502fd24a34b54a605ec8ff337f": {
          "model_module": "@jupyter-widgets/controls",
          "model_name": "ButtonModel",
          "state": {
            "_view_name": "ButtonView",
            "style": "IPY_MODEL_5c17fbc69b2d4aa285e8394d3e5f9a5d",
            "_dom_classes": [],
            "description": "Classify",
            "_model_name": "ButtonModel",
            "button_style": "",
            "_view_module": "@jupyter-widgets/controls",
            "_model_module_version": "1.5.0",
            "tooltip": "",
            "_view_count": null,
            "disabled": false,
            "_view_module_version": "1.5.0",
            "layout": "IPY_MODEL_772d9c4536e14e7b99b6a7482eb6d841",
            "_model_module": "@jupyter-widgets/controls",
            "icon": ""
          }
        },
        "f3f9b62eb641458a96b0de0f97899a64": {
          "model_module": "@jupyter-widgets/output",
          "model_name": "OutputModel",
          "state": {
            "_view_name": "OutputView",
            "msg_id": "",
            "_dom_classes": [],
            "_model_name": "OutputModel",
            "outputs": [
              {
                "output_type": "display_data",
                "metadata": {
                  "tags": []
                },
                "image/png": "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\n",
                "text/plain": "<PIL.Image.Image image mode=RGB size=128x77 at 0x7F2BA98C3B00>"
              }
            ],
            "_view_module": "@jupyter-widgets/output",
            "_model_module_version": "1.0.0",
            "_view_count": null,
            "_view_module_version": "1.0.0",
            "layout": "IPY_MODEL_17ee310c1ea44d649d92e0a271424c2c",
            "_model_module": "@jupyter-widgets/output"
          }
        },
        "84cfeb5c064c450489d0460a08b8577b": {
          "model_module": "@jupyter-widgets/controls",
          "model_name": "LabelModel",
          "state": {
            "_view_name": "LabelView",
            "style": "IPY_MODEL_36755c5d763149678830eda8a53383cd",
            "_dom_classes": [],
            "description": "",
            "_model_name": "LabelModel",
            "placeholder": "​",
            "_view_module": "@jupyter-widgets/controls",
            "_model_module_version": "1.5.0",
            "value": "Prediction: grizzly bear; Probability: 0.9993",
            "_view_count": null,
            "_view_module_version": "1.5.0",
            "description_tooltip": null,
            "_model_module": "@jupyter-widgets/controls",
            "layout": "IPY_MODEL_b9fad752450b46e5ad9d8436fb1a869e"
          }
        },
        "922af8a1874a46aca20a1ad069c8ffd3": {
          "model_module": "@jupyter-widgets/controls",
          "model_name": "DescriptionStyleModel",
          "state": {
            "_view_name": "StyleView",
            "_model_name": "DescriptionStyleModel",
            "description_width": "",
            "_view_module": "@jupyter-widgets/base",
            "_model_module_version": "1.5.0",
            "_view_count": null,
            "_view_module_version": "1.2.0",
            "_model_module": "@jupyter-widgets/controls"
          }
        },
        "c5ec27b75ab9479995e3747a40762c95": {
          "model_module": "@jupyter-widgets/base",
          "model_name": "LayoutModel",
          "state": {
            "_view_name": "LayoutView",
            "grid_template_rows": null,
            "right": null,
            "justify_content": null,
            "_view_module": "@jupyter-widgets/base",
            "overflow": null,
            "_model_module_version": "1.2.0",
            "_view_count": null,
            "flex_flow": null,
            "width": null,
            "min_width": null,
            "border": null,
            "align_items": null,
            "bottom": null,
            "_model_module": "@jupyter-widgets/base",
            "top": null,
            "grid_column": null,
            "overflow_y": null,
            "overflow_x": null,
            "grid_auto_flow": null,
            "grid_area": null,
            "grid_template_columns": null,
            "flex": null,
            "_model_name": "LayoutModel",
            "justify_items": null,
            "grid_row": null,
            "max_height": null,
            "align_content": null,
            "visibility": null,
            "align_self": null,
            "height": null,
            "min_height": null,
            "padding": null,
            "grid_auto_rows": null,
            "grid_gap": null,
            "max_width": null,
            "order": null,
            "_view_module_version": "1.2.0",
            "grid_template_areas": null,
            "object_position": null,
            "object_fit": null,
            "grid_auto_columns": null,
            "margin": null,
            "display": null,
            "left": null
          }
        },
        "6f5b7398033546a1be4d69c9e62f991f": {
          "model_module": "@jupyter-widgets/controls",
          "model_name": "ButtonStyleModel",
          "state": {
            "_view_name": "StyleView",
            "_model_name": "ButtonStyleModel",
            "_view_module": "@jupyter-widgets/base",
            "_model_module_version": "1.5.0",
            "_view_count": null,
            "button_color": null,
            "font_weight": "",
            "_view_module_version": "1.2.0",
            "_model_module": "@jupyter-widgets/controls"
          }
        },
        "ddb13dc09e3041cca4c8b69489ddfff8": {
          "model_module": "@jupyter-widgets/base",
          "model_name": "LayoutModel",
          "state": {
            "_view_name": "LayoutView",
            "grid_template_rows": null,
            "right": null,
            "justify_content": null,
            "_view_module": "@jupyter-widgets/base",
            "overflow": null,
            "_model_module_version": "1.2.0",
            "_view_count": null,
            "flex_flow": null,
            "width": null,
            "min_width": null,
            "border": null,
            "align_items": null,
            "bottom": null,
            "_model_module": "@jupyter-widgets/base",
            "top": null,
            "grid_column": null,
            "overflow_y": null,
            "overflow_x": null,
            "grid_auto_flow": null,
            "grid_area": null,
            "grid_template_columns": null,
            "flex": null,
            "_model_name": "LayoutModel",
            "justify_items": null,
            "grid_row": null,
            "max_height": null,
            "align_content": null,
            "visibility": null,
            "align_self": null,
            "height": null,
            "min_height": null,
            "padding": null,
            "grid_auto_rows": null,
            "grid_gap": null,
            "max_width": null,
            "order": null,
            "_view_module_version": "1.2.0",
            "grid_template_areas": null,
            "object_position": null,
            "object_fit": null,
            "grid_auto_columns": null,
            "margin": null,
            "display": null,
            "left": null
          }
        },
        "5c17fbc69b2d4aa285e8394d3e5f9a5d": {
          "model_module": "@jupyter-widgets/controls",
          "model_name": "ButtonStyleModel",
          "state": {
            "_view_name": "StyleView",
            "_model_name": "ButtonStyleModel",
            "_view_module": "@jupyter-widgets/base",
            "_model_module_version": "1.5.0",
            "_view_count": null,
            "button_color": null,
            "font_weight": "",
            "_view_module_version": "1.2.0",
            "_model_module": "@jupyter-widgets/controls"
          }
        },
        "772d9c4536e14e7b99b6a7482eb6d841": {
          "model_module": "@jupyter-widgets/base",
          "model_name": "LayoutModel",
          "state": {
            "_view_name": "LayoutView",
            "grid_template_rows": null,
            "right": null,
            "justify_content": null,
            "_view_module": "@jupyter-widgets/base",
            "overflow": null,
            "_model_module_version": "1.2.0",
            "_view_count": null,
            "flex_flow": null,
            "width": null,
            "min_width": null,
            "border": null,
            "align_items": null,
            "bottom": null,
            "_model_module": "@jupyter-widgets/base",
            "top": null,
            "grid_column": null,
            "overflow_y": null,
            "overflow_x": null,
            "grid_auto_flow": null,
            "grid_area": null,
            "grid_template_columns": null,
            "flex": null,
            "_model_name": "LayoutModel",
            "justify_items": null,
            "grid_row": null,
            "max_height": null,
            "align_content": null,
            "visibility": null,
            "align_self": null,
            "height": null,
            "min_height": null,
            "padding": null,
            "grid_auto_rows": null,
            "grid_gap": null,
            "max_width": null,
            "order": null,
            "_view_module_version": "1.2.0",
            "grid_template_areas": null,
            "object_position": null,
            "object_fit": null,
            "grid_auto_columns": null,
            "margin": null,
            "display": null,
            "left": null
          }
        },
        "36755c5d763149678830eda8a53383cd": {
          "model_module": "@jupyter-widgets/controls",
          "model_name": "DescriptionStyleModel",
          "state": {
            "_view_name": "StyleView",
            "_model_name": "DescriptionStyleModel",
            "description_width": "",
            "_view_module": "@jupyter-widgets/base",
            "_model_module_version": "1.5.0",
            "_view_count": null,
            "_view_module_version": "1.2.0",
            "_model_module": "@jupyter-widgets/controls"
          }
        },
        "b9fad752450b46e5ad9d8436fb1a869e": {
          "model_module": "@jupyter-widgets/base",
          "model_name": "LayoutModel",
          "state": {
            "_view_name": "LayoutView",
            "grid_template_rows": null,
            "right": null,
            "justify_content": null,
            "_view_module": "@jupyter-widgets/base",
            "overflow": null,
            "_model_module_version": "1.2.0",
            "_view_count": null,
            "flex_flow": null,
            "width": null,
            "min_width": null,
            "border": null,
            "align_items": null,
            "bottom": null,
            "_model_module": "@jupyter-widgets/base",
            "top": null,
            "grid_column": null,
            "overflow_y": null,
            "overflow_x": null,
            "grid_auto_flow": null,
            "grid_area": null,
            "grid_template_columns": null,
            "flex": null,
            "_model_name": "LayoutModel",
            "justify_items": null,
            "grid_row": null,
            "max_height": null,
            "align_content": null,
            "visibility": null,
            "align_self": null,
            "height": null,
            "min_height": null,
            "padding": null,
            "grid_auto_rows": null,
            "grid_gap": null,
            "max_width": null,
            "order": null,
            "_view_module_version": "1.2.0",
            "grid_template_areas": null,
            "object_position": null,
            "object_fit": null,
            "grid_auto_columns": null,
            "margin": null,
            "display": null,
            "left": null
          }
        },
        "17ee310c1ea44d649d92e0a271424c2c": {
          "model_module": "@jupyter-widgets/base",
          "model_name": "LayoutModel",
          "state": {
            "_view_name": "LayoutView",
            "grid_template_rows": null,
            "right": null,
            "justify_content": null,
            "_view_module": "@jupyter-widgets/base",
            "overflow": null,
            "_model_module_version": "1.2.0",
            "_view_count": null,
            "flex_flow": null,
            "width": null,
            "min_width": null,
            "border": null,
            "align_items": null,
            "bottom": null,
            "_model_module": "@jupyter-widgets/base",
            "top": null,
            "grid_column": null,
            "overflow_y": null,
            "overflow_x": null,
            "grid_auto_flow": null,
            "grid_area": null,
            "grid_template_columns": null,
            "flex": null,
            "_model_name": "LayoutModel",
            "justify_items": null,
            "grid_row": null,
            "max_height": null,
            "align_content": null,
            "visibility": null,
            "align_self": null,
            "height": null,
            "min_height": null,
            "padding": null,
            "grid_auto_rows": null,
            "grid_gap": null,
            "max_width": null,
            "order": null,
            "_view_module_version": "1.2.0",
            "grid_template_areas": null,
            "object_position": null,
            "object_fit": null,
            "grid_auto_columns": null,
            "margin": null,
            "display": null,
            "left": null
          }
        }
      }
    }
  },
  "cells": [
    {
      "cell_type": "code",
      "metadata": {
        "colab": {
          "base_uri": "https://localhost:8080/"
        },
        "id": "V96MGaphLabi",
        "outputId": "d0b4fff0-5082-4d32-cf34-612b5c0243db"
      },
      "source": [
        "#!pip install voila\n",
        "#!jupyter serverextension enable --sys-prefix voila\n",
        "!pip install -Uqq fastbook\n",
        "import fastbook\n",
        "#fastbook.setup_book()\n",
        "\n"
      ],
      "execution_count": 2,
      "outputs": [
        {
          "output_type": "stream",
          "text": [
            "\u001b[?25l\r\u001b[K     |▌                               | 10kB 5.6MB/s eta 0:00:01\r\u001b[K     |█                               | 20kB 7.8MB/s eta 0:00:01\r\u001b[K     |█▍                              | 30kB 6.8MB/s eta 0:00:01\r\u001b[K     |█▉                              | 40kB 4.8MB/s eta 0:00:01\r\u001b[K     |██▎                             | 51kB 5.8MB/s eta 0:00:01\r\u001b[K     |██▊                             | 61kB 6.3MB/s eta 0:00:01\r\u001b[K     |███▏                            | 71kB 6.8MB/s eta 0:00:01\r\u001b[K     |███▋                            | 81kB 7.2MB/s eta 0:00:01\r\u001b[K     |████                            | 92kB 7.3MB/s eta 0:00:01\r\u001b[K     |████▌                           | 102kB 6.5MB/s eta 0:00:01\r\u001b[K     |█████                           | 112kB 6.5MB/s eta 0:00:01\r\u001b[K     |█████▌                          | 122kB 6.5MB/s eta 0:00:01\r\u001b[K     |██████                          | 133kB 6.5MB/s eta 0:00:01\r\u001b[K     |██████▍                         | 143kB 6.5MB/s eta 0:00:01\r\u001b[K     |██████▉                         | 153kB 6.5MB/s eta 0:00:01\r\u001b[K     |███████▎                        | 163kB 6.5MB/s eta 0:00:01\r\u001b[K     |███████▊                        | 174kB 6.5MB/s eta 0:00:01\r\u001b[K     |████████▏                       | 184kB 6.5MB/s eta 0:00:01\r\u001b[K     |████████▋                       | 194kB 6.5MB/s eta 0:00:01\r\u001b[K     |█████████                       | 204kB 6.5MB/s eta 0:00:01\r\u001b[K     |█████████▋                      | 215kB 6.5MB/s eta 0:00:01\r\u001b[K     |██████████                      | 225kB 6.5MB/s eta 0:00:01\r\u001b[K     |██████████▌                     | 235kB 6.5MB/s eta 0:00:01\r\u001b[K     |███████████                     | 245kB 6.5MB/s eta 0:00:01\r\u001b[K     |███████████▍                    | 256kB 6.5MB/s eta 0:00:01\r\u001b[K     |███████████▉                    | 266kB 6.5MB/s eta 0:00:01\r\u001b[K     |████████████▎                   | 276kB 6.5MB/s eta 0:00:01\r\u001b[K     |████████████▊                   | 286kB 6.5MB/s eta 0:00:01\r\u001b[K     |█████████████▏                  | 296kB 6.5MB/s eta 0:00:01\r\u001b[K     |█████████████▋                  | 307kB 6.5MB/s eta 0:00:01\r\u001b[K     |██████████████                  | 317kB 6.5MB/s eta 0:00:01\r\u001b[K     |██████████████▋                 | 327kB 6.5MB/s eta 0:00:01\r\u001b[K     |███████████████                 | 337kB 6.5MB/s eta 0:00:01\r\u001b[K     |███████████████▌                | 348kB 6.5MB/s eta 0:00:01\r\u001b[K     |████████████████                | 358kB 6.5MB/s eta 0:00:01\r\u001b[K     |████████████████▍               | 368kB 6.5MB/s eta 0:00:01\r\u001b[K     |████████████████▉               | 378kB 6.5MB/s eta 0:00:01\r\u001b[K     |█████████████████▎              | 389kB 6.5MB/s eta 0:00:01\r\u001b[K     |█████████████████▊              | 399kB 6.5MB/s eta 0:00:01\r\u001b[K     |██████████████████▏             | 409kB 6.5MB/s eta 0:00:01\r\u001b[K     |██████████████████▋             | 419kB 6.5MB/s eta 0:00:01\r\u001b[K     |███████████████████▏            | 430kB 6.5MB/s eta 0:00:01\r\u001b[K     |███████████████████▋            | 440kB 6.5MB/s eta 0:00:01\r\u001b[K     |████████████████████            | 450kB 6.5MB/s eta 0:00:01\r\u001b[K     |████████████████████▌           | 460kB 6.5MB/s eta 0:00:01\r\u001b[K     |█████████████████████           | 471kB 6.5MB/s eta 0:00:01\r\u001b[K     |█████████████████████▍          | 481kB 6.5MB/s eta 0:00:01\r\u001b[K     |█████████████████████▉          | 491kB 6.5MB/s eta 0:00:01\r\u001b[K     |██████████████████████▎         | 501kB 6.5MB/s eta 0:00:01\r\u001b[K     |██████████████████████▊         | 512kB 6.5MB/s eta 0:00:01\r\u001b[K     |███████████████████████▏        | 522kB 6.5MB/s eta 0:00:01\r\u001b[K     |███████████████████████▋        | 532kB 6.5MB/s eta 0:00:01\r\u001b[K     |████████████████████████▏       | 542kB 6.5MB/s eta 0:00:01\r\u001b[K     |████████████████████████▋       | 552kB 6.5MB/s eta 0:00:01\r\u001b[K     |█████████████████████████       | 563kB 6.5MB/s eta 0:00:01\r\u001b[K     |█████████████████████████▌      | 573kB 6.5MB/s eta 0:00:01\r\u001b[K     |██████████████████████████      | 583kB 6.5MB/s eta 0:00:01\r\u001b[K     |██████████████████████████▍     | 593kB 6.5MB/s eta 0:00:01\r\u001b[K     |██████████████████████████▉     | 604kB 6.5MB/s eta 0:00:01\r\u001b[K     |███████████████████████████▎    | 614kB 6.5MB/s eta 0:00:01\r\u001b[K     |███████████████████████████▊    | 624kB 6.5MB/s eta 0:00:01\r\u001b[K     |████████████████████████████▏   | 634kB 6.5MB/s eta 0:00:01\r\u001b[K     |████████████████████████████▊   | 645kB 6.5MB/s eta 0:00:01\r\u001b[K     |█████████████████████████████▏  | 655kB 6.5MB/s eta 0:00:01\r\u001b[K     |█████████████████████████████▋  | 665kB 6.5MB/s eta 0:00:01\r\u001b[K     |██████████████████████████████  | 675kB 6.5MB/s eta 0:00:01\r\u001b[K     |██████████████████████████████▌ | 686kB 6.5MB/s eta 0:00:01\r\u001b[K     |███████████████████████████████ | 696kB 6.5MB/s eta 0:00:01\r\u001b[K     |███████████████████████████████▍| 706kB 6.5MB/s eta 0:00:01\r\u001b[K     |███████████████████████████████▉| 716kB 6.5MB/s eta 0:00:01\r\u001b[K     |████████████████████████████████| 727kB 6.5MB/s \n",
            "\u001b[K     |████████████████████████████████| 51kB 8.7MB/s \n",
            "\u001b[K     |████████████████████████████████| 194kB 16.2MB/s \n",
            "\u001b[K     |████████████████████████████████| 1.2MB 19.1MB/s \n",
            "\u001b[K     |████████████████████████████████| 61kB 10.0MB/s \n",
            "\u001b[K     |████████████████████████████████| 460kB 49.4MB/s \n",
            "\u001b[31mERROR: voila 0.2.6 has requirement nbconvert<7,>=6.0.0, but you'll have nbconvert 5.6.1 which is incompatible.\u001b[0m\n",
            "\u001b[31mERROR: jupyter-server 1.3.0 has requirement tornado>=6.1.0, but you'll have tornado 5.1.1 which is incompatible.\u001b[0m\n",
            "\u001b[?25h"
          ],
          "name": "stdout"
        }
      ]
    },
    {
      "cell_type": "code",
      "metadata": {
        "id": "DYOLJpQZMULo"
      },
      "source": [
        "from fastbook import *\n",
        "from fastai.vision.widgets import *"
      ],
      "execution_count": 3,
      "outputs": []
    },
    {
      "cell_type": "markdown",
      "metadata": {
        "id": "1RFzgQa3MT9D"
      },
      "source": [
        ""
      ]
    },
    {
      "cell_type": "code",
      "metadata": {
        "id": "ofAuxTyvMzSK"
      },
      "source": [
        "path = Path()\n",
        "learn_inf = load_learner(path/'export.pkl')"
      ],
      "execution_count": 8,
      "outputs": []
    },
    {
      "cell_type": "code",
      "metadata": {
        "id": "bFSQkvURNguw"
      },
      "source": [
        "img = PILImage.create(btn_upload.data[-1])"
      ],
      "execution_count": 31,
      "outputs": []
    },
    {
      "cell_type": "code",
      "metadata": {
        "id": "req9CG-RL_2F"
      },
      "source": [
        "out_pl = widgets.Output()\n",
        "out_pl.clear_output()\n",
        "with out_pl: display(img.to_thumb(128,128))"
      ],
      "execution_count": 32,
      "outputs": []
    },
    {
      "cell_type": "code",
      "metadata": {
        "id": "hWq0V35WNDHg"
      },
      "source": [
        "lbl_pred = widgets.Label()"
      ],
      "execution_count": 33,
      "outputs": []
    },
    {
      "cell_type": "code",
      "metadata": {
        "id": "y3L2dubzMlO4"
      },
      "source": [
        "btn_run = widgets.Button(description='Classify')\n",
        "def on_click_classify(change):\n",
        "    img = PILImage.create(btn_upload.data[-1])\n",
        "    out_pl.clear_output()\n",
        "    with out_pl: display(img.to_thumb(128,128))\n",
        "    pred,pred_idx,probs = learn_inf.predict(img)\n",
        "    lbl_pred.value = f'Prediction: {pred}; Probability: {probs[pred_idx]:.04f}'\n",
        "\n",
        "btn_run.on_click(on_click_classify)"
      ],
      "execution_count": 34,
      "outputs": []
    },
    {
      "cell_type": "code",
      "metadata": {
        "id": "6XAXXTSyNPOt"
      },
      "source": [
        "btn_upload = widgets.FileUpload()"
      ],
      "execution_count": 35,
      "outputs": []
    },
    {
      "cell_type": "code",
      "metadata": {
        "colab": {
          "base_uri": "https://localhost:8080/",
          "height": 222,
          "referenced_widgets": [
            "c34696da48414b2990ddf32caa732dc9",
            "aa2f523bf962494e8391b09fd8c29e29",
            "e69042492d99434c93b2264e5bc79440",
            "d8601afef3ee4a9196de994da5f5639b",
            "8687ac502fd24a34b54a605ec8ff337f",
            "f3f9b62eb641458a96b0de0f97899a64",
            "84cfeb5c064c450489d0460a08b8577b",
            "922af8a1874a46aca20a1ad069c8ffd3",
            "c5ec27b75ab9479995e3747a40762c95",
            "6f5b7398033546a1be4d69c9e62f991f",
            "ddb13dc09e3041cca4c8b69489ddfff8",
            "5c17fbc69b2d4aa285e8394d3e5f9a5d",
            "772d9c4536e14e7b99b6a7482eb6d841",
            "36755c5d763149678830eda8a53383cd",
            "b9fad752450b46e5ad9d8436fb1a869e",
            "17ee310c1ea44d649d92e0a271424c2c"
          ]
        },
        "id": "Q8JuDmbTMsPG",
        "outputId": "06c9f547-546c-4e8f-85f8-c9b8c3e7baae"
      },
      "source": [
        "VBox([widgets.Label('Select your bear!'), \n",
        "      btn_upload, btn_run, out_pl, lbl_pred])"
      ],
      "execution_count": 37,
      "outputs": [
        {
          "output_type": "display_data",
          "data": {
            "application/vnd.jupyter.widget-view+json": {
              "model_id": "c34696da48414b2990ddf32caa732dc9",
              "version_minor": 0,
              "version_major": 2
            },
            "text/plain": [
              "VBox(children=(Label(value='Select your bear!'), FileUpload(value={'white.jpg': {'metadata': {'lastModified': …"
            ]
          },
          "metadata": {
            "tags": []
          }
        }
      ]
    },
    {
      "cell_type": "code",
      "metadata": {
        "id": "yzPhCC6sQUVj"
      },
      "source": [
        "from google.colab import drive\n",
        "drive.mount('/content/drive')"
      ],
      "execution_count": null,
      "outputs": []
    }
  ]
}